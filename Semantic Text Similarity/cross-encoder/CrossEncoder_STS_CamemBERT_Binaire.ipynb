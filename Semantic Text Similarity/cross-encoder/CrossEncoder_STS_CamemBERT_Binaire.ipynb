{
  "nbformat": 4,
  "nbformat_minor": 0,
  "metadata": {
    "colab": {
      "name": "CrossEncoder_STS_CamemBERT_Binaire.ipynb",
      "provenance": [],
      "collapsed_sections": []
    },
    "kernelspec": {
      "name": "python3",
      "display_name": "Python 3"
    },
    "language_info": {
      "name": "python"
    },
    "accelerator": "GPU",
    "widgets": {
      "application/vnd.jupyter.widget-state+json": {
        "02abf7213ab946a68d6750cf0548aefc": {
          "model_module": "@jupyter-widgets/controls",
          "model_name": "HBoxModel",
          "model_module_version": "1.5.0",
          "state": {
            "_dom_classes": [],
            "_model_module": "@jupyter-widgets/controls",
            "_model_module_version": "1.5.0",
            "_model_name": "HBoxModel",
            "_view_count": null,
            "_view_module": "@jupyter-widgets/controls",
            "_view_module_version": "1.5.0",
            "_view_name": "HBoxView",
            "box_style": "",
            "children": [
              "IPY_MODEL_cd78e1c357a2449eb3d6eed9ce810154",
              "IPY_MODEL_f4c9a2e1e27b4491af24a017765af4a8",
              "IPY_MODEL_a6700b381fc44d3aaa5f0c2e2fa6fbf3"
            ],
            "layout": "IPY_MODEL_147bd31077054aa88db4a806bb68c694"
          }
        },
        "cd78e1c357a2449eb3d6eed9ce810154": {
          "model_module": "@jupyter-widgets/controls",
          "model_name": "HTMLModel",
          "model_module_version": "1.5.0",
          "state": {
            "_dom_classes": [],
            "_model_module": "@jupyter-widgets/controls",
            "_model_module_version": "1.5.0",
            "_model_name": "HTMLModel",
            "_view_count": null,
            "_view_module": "@jupyter-widgets/controls",
            "_view_module_version": "1.5.0",
            "_view_name": "HTMLView",
            "description": "",
            "description_tooltip": null,
            "layout": "IPY_MODEL_20f4b9f5815f4eb0b9fdb2bd22799924",
            "placeholder": "​",
            "style": "IPY_MODEL_375eeeaab5fc4aa69544a74ff43382fb",
            "value": "Downloading: 100%"
          }
        },
        "f4c9a2e1e27b4491af24a017765af4a8": {
          "model_module": "@jupyter-widgets/controls",
          "model_name": "FloatProgressModel",
          "model_module_version": "1.5.0",
          "state": {
            "_dom_classes": [],
            "_model_module": "@jupyter-widgets/controls",
            "_model_module_version": "1.5.0",
            "_model_name": "FloatProgressModel",
            "_view_count": null,
            "_view_module": "@jupyter-widgets/controls",
            "_view_module_version": "1.5.0",
            "_view_name": "ProgressView",
            "bar_style": "success",
            "description": "",
            "description_tooltip": null,
            "layout": "IPY_MODEL_eb88248fdaa84416aaa9f2695d23ad87",
            "max": 810912,
            "min": 0,
            "orientation": "horizontal",
            "style": "IPY_MODEL_7bda8c5c84fd431cbdb7ad43a1cb845b",
            "value": 810912
          }
        },
        "a6700b381fc44d3aaa5f0c2e2fa6fbf3": {
          "model_module": "@jupyter-widgets/controls",
          "model_name": "HTMLModel",
          "model_module_version": "1.5.0",
          "state": {
            "_dom_classes": [],
            "_model_module": "@jupyter-widgets/controls",
            "_model_module_version": "1.5.0",
            "_model_name": "HTMLModel",
            "_view_count": null,
            "_view_module": "@jupyter-widgets/controls",
            "_view_module_version": "1.5.0",
            "_view_name": "HTMLView",
            "description": "",
            "description_tooltip": null,
            "layout": "IPY_MODEL_3524cd78a4c74f31a1cefd17555ae671",
            "placeholder": "​",
            "style": "IPY_MODEL_0afb6d7fafac4a7d8304f4f3b3fce31f",
            "value": " 792k/792k [00:00&lt;00:00, 993kB/s]"
          }
        },
        "147bd31077054aa88db4a806bb68c694": {
          "model_module": "@jupyter-widgets/base",
          "model_name": "LayoutModel",
          "model_module_version": "1.2.0",
          "state": {
            "_model_module": "@jupyter-widgets/base",
            "_model_module_version": "1.2.0",
            "_model_name": "LayoutModel",
            "_view_count": null,
            "_view_module": "@jupyter-widgets/base",
            "_view_module_version": "1.2.0",
            "_view_name": "LayoutView",
            "align_content": null,
            "align_items": null,
            "align_self": null,
            "border": null,
            "bottom": null,
            "display": null,
            "flex": null,
            "flex_flow": null,
            "grid_area": null,
            "grid_auto_columns": null,
            "grid_auto_flow": null,
            "grid_auto_rows": null,
            "grid_column": null,
            "grid_gap": null,
            "grid_row": null,
            "grid_template_areas": null,
            "grid_template_columns": null,
            "grid_template_rows": null,
            "height": null,
            "justify_content": null,
            "justify_items": null,
            "left": null,
            "margin": null,
            "max_height": null,
            "max_width": null,
            "min_height": null,
            "min_width": null,
            "object_fit": null,
            "object_position": null,
            "order": null,
            "overflow": null,
            "overflow_x": null,
            "overflow_y": null,
            "padding": null,
            "right": null,
            "top": null,
            "visibility": null,
            "width": null
          }
        },
        "20f4b9f5815f4eb0b9fdb2bd22799924": {
          "model_module": "@jupyter-widgets/base",
          "model_name": "LayoutModel",
          "model_module_version": "1.2.0",
          "state": {
            "_model_module": "@jupyter-widgets/base",
            "_model_module_version": "1.2.0",
            "_model_name": "LayoutModel",
            "_view_count": null,
            "_view_module": "@jupyter-widgets/base",
            "_view_module_version": "1.2.0",
            "_view_name": "LayoutView",
            "align_content": null,
            "align_items": null,
            "align_self": null,
            "border": null,
            "bottom": null,
            "display": null,
            "flex": null,
            "flex_flow": null,
            "grid_area": null,
            "grid_auto_columns": null,
            "grid_auto_flow": null,
            "grid_auto_rows": null,
            "grid_column": null,
            "grid_gap": null,
            "grid_row": null,
            "grid_template_areas": null,
            "grid_template_columns": null,
            "grid_template_rows": null,
            "height": null,
            "justify_content": null,
            "justify_items": null,
            "left": null,
            "margin": null,
            "max_height": null,
            "max_width": null,
            "min_height": null,
            "min_width": null,
            "object_fit": null,
            "object_position": null,
            "order": null,
            "overflow": null,
            "overflow_x": null,
            "overflow_y": null,
            "padding": null,
            "right": null,
            "top": null,
            "visibility": null,
            "width": null
          }
        },
        "375eeeaab5fc4aa69544a74ff43382fb": {
          "model_module": "@jupyter-widgets/controls",
          "model_name": "DescriptionStyleModel",
          "model_module_version": "1.5.0",
          "state": {
            "_model_module": "@jupyter-widgets/controls",
            "_model_module_version": "1.5.0",
            "_model_name": "DescriptionStyleModel",
            "_view_count": null,
            "_view_module": "@jupyter-widgets/base",
            "_view_module_version": "1.2.0",
            "_view_name": "StyleView",
            "description_width": ""
          }
        },
        "eb88248fdaa84416aaa9f2695d23ad87": {
          "model_module": "@jupyter-widgets/base",
          "model_name": "LayoutModel",
          "model_module_version": "1.2.0",
          "state": {
            "_model_module": "@jupyter-widgets/base",
            "_model_module_version": "1.2.0",
            "_model_name": "LayoutModel",
            "_view_count": null,
            "_view_module": "@jupyter-widgets/base",
            "_view_module_version": "1.2.0",
            "_view_name": "LayoutView",
            "align_content": null,
            "align_items": null,
            "align_self": null,
            "border": null,
            "bottom": null,
            "display": null,
            "flex": null,
            "flex_flow": null,
            "grid_area": null,
            "grid_auto_columns": null,
            "grid_auto_flow": null,
            "grid_auto_rows": null,
            "grid_column": null,
            "grid_gap": null,
            "grid_row": null,
            "grid_template_areas": null,
            "grid_template_columns": null,
            "grid_template_rows": null,
            "height": null,
            "justify_content": null,
            "justify_items": null,
            "left": null,
            "margin": null,
            "max_height": null,
            "max_width": null,
            "min_height": null,
            "min_width": null,
            "object_fit": null,
            "object_position": null,
            "order": null,
            "overflow": null,
            "overflow_x": null,
            "overflow_y": null,
            "padding": null,
            "right": null,
            "top": null,
            "visibility": null,
            "width": null
          }
        },
        "7bda8c5c84fd431cbdb7ad43a1cb845b": {
          "model_module": "@jupyter-widgets/controls",
          "model_name": "ProgressStyleModel",
          "model_module_version": "1.5.0",
          "state": {
            "_model_module": "@jupyter-widgets/controls",
            "_model_module_version": "1.5.0",
            "_model_name": "ProgressStyleModel",
            "_view_count": null,
            "_view_module": "@jupyter-widgets/base",
            "_view_module_version": "1.2.0",
            "_view_name": "StyleView",
            "bar_color": null,
            "description_width": ""
          }
        },
        "3524cd78a4c74f31a1cefd17555ae671": {
          "model_module": "@jupyter-widgets/base",
          "model_name": "LayoutModel",
          "model_module_version": "1.2.0",
          "state": {
            "_model_module": "@jupyter-widgets/base",
            "_model_module_version": "1.2.0",
            "_model_name": "LayoutModel",
            "_view_count": null,
            "_view_module": "@jupyter-widgets/base",
            "_view_module_version": "1.2.0",
            "_view_name": "LayoutView",
            "align_content": null,
            "align_items": null,
            "align_self": null,
            "border": null,
            "bottom": null,
            "display": null,
            "flex": null,
            "flex_flow": null,
            "grid_area": null,
            "grid_auto_columns": null,
            "grid_auto_flow": null,
            "grid_auto_rows": null,
            "grid_column": null,
            "grid_gap": null,
            "grid_row": null,
            "grid_template_areas": null,
            "grid_template_columns": null,
            "grid_template_rows": null,
            "height": null,
            "justify_content": null,
            "justify_items": null,
            "left": null,
            "margin": null,
            "max_height": null,
            "max_width": null,
            "min_height": null,
            "min_width": null,
            "object_fit": null,
            "object_position": null,
            "order": null,
            "overflow": null,
            "overflow_x": null,
            "overflow_y": null,
            "padding": null,
            "right": null,
            "top": null,
            "visibility": null,
            "width": null
          }
        },
        "0afb6d7fafac4a7d8304f4f3b3fce31f": {
          "model_module": "@jupyter-widgets/controls",
          "model_name": "DescriptionStyleModel",
          "model_module_version": "1.5.0",
          "state": {
            "_model_module": "@jupyter-widgets/controls",
            "_model_module_version": "1.5.0",
            "_model_name": "DescriptionStyleModel",
            "_view_count": null,
            "_view_module": "@jupyter-widgets/base",
            "_view_module_version": "1.2.0",
            "_view_name": "StyleView",
            "description_width": ""
          }
        },
        "26e45ea283de45d4abc969a8d57e6610": {
          "model_module": "@jupyter-widgets/controls",
          "model_name": "HBoxModel",
          "model_module_version": "1.5.0",
          "state": {
            "_dom_classes": [],
            "_model_module": "@jupyter-widgets/controls",
            "_model_module_version": "1.5.0",
            "_model_name": "HBoxModel",
            "_view_count": null,
            "_view_module": "@jupyter-widgets/controls",
            "_view_module_version": "1.5.0",
            "_view_name": "HBoxView",
            "box_style": "",
            "children": [
              "IPY_MODEL_9fd1cba6bf874e3980ee4bea7ee42324",
              "IPY_MODEL_f357eaed086c48d5900c79a0b61a5195",
              "IPY_MODEL_321334e2ca0e4ae6b37a5f580d19b0e6"
            ],
            "layout": "IPY_MODEL_3257acbe76704095bd57e3e2651ca257"
          }
        },
        "9fd1cba6bf874e3980ee4bea7ee42324": {
          "model_module": "@jupyter-widgets/controls",
          "model_name": "HTMLModel",
          "model_module_version": "1.5.0",
          "state": {
            "_dom_classes": [],
            "_model_module": "@jupyter-widgets/controls",
            "_model_module_version": "1.5.0",
            "_model_name": "HTMLModel",
            "_view_count": null,
            "_view_module": "@jupyter-widgets/controls",
            "_view_module_version": "1.5.0",
            "_view_name": "HTMLView",
            "description": "",
            "description_tooltip": null,
            "layout": "IPY_MODEL_7f3538d0101e495ca1df463cc1bd5291",
            "placeholder": "​",
            "style": "IPY_MODEL_f972372a56324c9394975d02a1dc7cea",
            "value": "Downloading: 100%"
          }
        },
        "f357eaed086c48d5900c79a0b61a5195": {
          "model_module": "@jupyter-widgets/controls",
          "model_name": "FloatProgressModel",
          "model_module_version": "1.5.0",
          "state": {
            "_dom_classes": [],
            "_model_module": "@jupyter-widgets/controls",
            "_model_module_version": "1.5.0",
            "_model_name": "FloatProgressModel",
            "_view_count": null,
            "_view_module": "@jupyter-widgets/controls",
            "_view_module_version": "1.5.0",
            "_view_name": "ProgressView",
            "bar_style": "success",
            "description": "",
            "description_tooltip": null,
            "layout": "IPY_MODEL_07b972dd581c4ecb9be7edd8d0595ace",
            "max": 508,
            "min": 0,
            "orientation": "horizontal",
            "style": "IPY_MODEL_488e506a4069495a88029702bd0b2eec",
            "value": 508
          }
        },
        "321334e2ca0e4ae6b37a5f580d19b0e6": {
          "model_module": "@jupyter-widgets/controls",
          "model_name": "HTMLModel",
          "model_module_version": "1.5.0",
          "state": {
            "_dom_classes": [],
            "_model_module": "@jupyter-widgets/controls",
            "_model_module_version": "1.5.0",
            "_model_name": "HTMLModel",
            "_view_count": null,
            "_view_module": "@jupyter-widgets/controls",
            "_view_module_version": "1.5.0",
            "_view_name": "HTMLView",
            "description": "",
            "description_tooltip": null,
            "layout": "IPY_MODEL_3ef0a0516231440f829895c1439d2384",
            "placeholder": "​",
            "style": "IPY_MODEL_5239bd2d4cf54176b392a64d75791cb3",
            "value": " 508/508 [00:00&lt;00:00, 11.4kB/s]"
          }
        },
        "3257acbe76704095bd57e3e2651ca257": {
          "model_module": "@jupyter-widgets/base",
          "model_name": "LayoutModel",
          "model_module_version": "1.2.0",
          "state": {
            "_model_module": "@jupyter-widgets/base",
            "_model_module_version": "1.2.0",
            "_model_name": "LayoutModel",
            "_view_count": null,
            "_view_module": "@jupyter-widgets/base",
            "_view_module_version": "1.2.0",
            "_view_name": "LayoutView",
            "align_content": null,
            "align_items": null,
            "align_self": null,
            "border": null,
            "bottom": null,
            "display": null,
            "flex": null,
            "flex_flow": null,
            "grid_area": null,
            "grid_auto_columns": null,
            "grid_auto_flow": null,
            "grid_auto_rows": null,
            "grid_column": null,
            "grid_gap": null,
            "grid_row": null,
            "grid_template_areas": null,
            "grid_template_columns": null,
            "grid_template_rows": null,
            "height": null,
            "justify_content": null,
            "justify_items": null,
            "left": null,
            "margin": null,
            "max_height": null,
            "max_width": null,
            "min_height": null,
            "min_width": null,
            "object_fit": null,
            "object_position": null,
            "order": null,
            "overflow": null,
            "overflow_x": null,
            "overflow_y": null,
            "padding": null,
            "right": null,
            "top": null,
            "visibility": null,
            "width": null
          }
        },
        "7f3538d0101e495ca1df463cc1bd5291": {
          "model_module": "@jupyter-widgets/base",
          "model_name": "LayoutModel",
          "model_module_version": "1.2.0",
          "state": {
            "_model_module": "@jupyter-widgets/base",
            "_model_module_version": "1.2.0",
            "_model_name": "LayoutModel",
            "_view_count": null,
            "_view_module": "@jupyter-widgets/base",
            "_view_module_version": "1.2.0",
            "_view_name": "LayoutView",
            "align_content": null,
            "align_items": null,
            "align_self": null,
            "border": null,
            "bottom": null,
            "display": null,
            "flex": null,
            "flex_flow": null,
            "grid_area": null,
            "grid_auto_columns": null,
            "grid_auto_flow": null,
            "grid_auto_rows": null,
            "grid_column": null,
            "grid_gap": null,
            "grid_row": null,
            "grid_template_areas": null,
            "grid_template_columns": null,
            "grid_template_rows": null,
            "height": null,
            "justify_content": null,
            "justify_items": null,
            "left": null,
            "margin": null,
            "max_height": null,
            "max_width": null,
            "min_height": null,
            "min_width": null,
            "object_fit": null,
            "object_position": null,
            "order": null,
            "overflow": null,
            "overflow_x": null,
            "overflow_y": null,
            "padding": null,
            "right": null,
            "top": null,
            "visibility": null,
            "width": null
          }
        },
        "f972372a56324c9394975d02a1dc7cea": {
          "model_module": "@jupyter-widgets/controls",
          "model_name": "DescriptionStyleModel",
          "model_module_version": "1.5.0",
          "state": {
            "_model_module": "@jupyter-widgets/controls",
            "_model_module_version": "1.5.0",
            "_model_name": "DescriptionStyleModel",
            "_view_count": null,
            "_view_module": "@jupyter-widgets/base",
            "_view_module_version": "1.2.0",
            "_view_name": "StyleView",
            "description_width": ""
          }
        },
        "07b972dd581c4ecb9be7edd8d0595ace": {
          "model_module": "@jupyter-widgets/base",
          "model_name": "LayoutModel",
          "model_module_version": "1.2.0",
          "state": {
            "_model_module": "@jupyter-widgets/base",
            "_model_module_version": "1.2.0",
            "_model_name": "LayoutModel",
            "_view_count": null,
            "_view_module": "@jupyter-widgets/base",
            "_view_module_version": "1.2.0",
            "_view_name": "LayoutView",
            "align_content": null,
            "align_items": null,
            "align_self": null,
            "border": null,
            "bottom": null,
            "display": null,
            "flex": null,
            "flex_flow": null,
            "grid_area": null,
            "grid_auto_columns": null,
            "grid_auto_flow": null,
            "grid_auto_rows": null,
            "grid_column": null,
            "grid_gap": null,
            "grid_row": null,
            "grid_template_areas": null,
            "grid_template_columns": null,
            "grid_template_rows": null,
            "height": null,
            "justify_content": null,
            "justify_items": null,
            "left": null,
            "margin": null,
            "max_height": null,
            "max_width": null,
            "min_height": null,
            "min_width": null,
            "object_fit": null,
            "object_position": null,
            "order": null,
            "overflow": null,
            "overflow_x": null,
            "overflow_y": null,
            "padding": null,
            "right": null,
            "top": null,
            "visibility": null,
            "width": null
          }
        },
        "488e506a4069495a88029702bd0b2eec": {
          "model_module": "@jupyter-widgets/controls",
          "model_name": "ProgressStyleModel",
          "model_module_version": "1.5.0",
          "state": {
            "_model_module": "@jupyter-widgets/controls",
            "_model_module_version": "1.5.0",
            "_model_name": "ProgressStyleModel",
            "_view_count": null,
            "_view_module": "@jupyter-widgets/base",
            "_view_module_version": "1.2.0",
            "_view_name": "StyleView",
            "bar_color": null,
            "description_width": ""
          }
        },
        "3ef0a0516231440f829895c1439d2384": {
          "model_module": "@jupyter-widgets/base",
          "model_name": "LayoutModel",
          "model_module_version": "1.2.0",
          "state": {
            "_model_module": "@jupyter-widgets/base",
            "_model_module_version": "1.2.0",
            "_model_name": "LayoutModel",
            "_view_count": null,
            "_view_module": "@jupyter-widgets/base",
            "_view_module_version": "1.2.0",
            "_view_name": "LayoutView",
            "align_content": null,
            "align_items": null,
            "align_self": null,
            "border": null,
            "bottom": null,
            "display": null,
            "flex": null,
            "flex_flow": null,
            "grid_area": null,
            "grid_auto_columns": null,
            "grid_auto_flow": null,
            "grid_auto_rows": null,
            "grid_column": null,
            "grid_gap": null,
            "grid_row": null,
            "grid_template_areas": null,
            "grid_template_columns": null,
            "grid_template_rows": null,
            "height": null,
            "justify_content": null,
            "justify_items": null,
            "left": null,
            "margin": null,
            "max_height": null,
            "max_width": null,
            "min_height": null,
            "min_width": null,
            "object_fit": null,
            "object_position": null,
            "order": null,
            "overflow": null,
            "overflow_x": null,
            "overflow_y": null,
            "padding": null,
            "right": null,
            "top": null,
            "visibility": null,
            "width": null
          }
        },
        "5239bd2d4cf54176b392a64d75791cb3": {
          "model_module": "@jupyter-widgets/controls",
          "model_name": "DescriptionStyleModel",
          "model_module_version": "1.5.0",
          "state": {
            "_model_module": "@jupyter-widgets/controls",
            "_model_module_version": "1.5.0",
            "_model_name": "DescriptionStyleModel",
            "_view_count": null,
            "_view_module": "@jupyter-widgets/base",
            "_view_module_version": "1.2.0",
            "_view_name": "StyleView",
            "description_width": ""
          }
        },
        "846cae71e3dc416aba19e7b152209a19": {
          "model_module": "@jupyter-widgets/controls",
          "model_name": "HBoxModel",
          "model_module_version": "1.5.0",
          "state": {
            "_dom_classes": [],
            "_model_module": "@jupyter-widgets/controls",
            "_model_module_version": "1.5.0",
            "_model_name": "HBoxModel",
            "_view_count": null,
            "_view_module": "@jupyter-widgets/controls",
            "_view_module_version": "1.5.0",
            "_view_name": "HBoxView",
            "box_style": "",
            "children": [
              "IPY_MODEL_1ea5be2143134dd293a7d040351b590a",
              "IPY_MODEL_e9e23910777f4d7a870303ff95ec4582",
              "IPY_MODEL_e04c3ad9866e486186a1e768c2a0775a"
            ],
            "layout": "IPY_MODEL_2e7d13e0c93743249edc20f85b2e6cf2"
          }
        },
        "1ea5be2143134dd293a7d040351b590a": {
          "model_module": "@jupyter-widgets/controls",
          "model_name": "HTMLModel",
          "model_module_version": "1.5.0",
          "state": {
            "_dom_classes": [],
            "_model_module": "@jupyter-widgets/controls",
            "_model_module_version": "1.5.0",
            "_model_name": "HTMLModel",
            "_view_count": null,
            "_view_module": "@jupyter-widgets/controls",
            "_view_module_version": "1.5.0",
            "_view_name": "HTMLView",
            "description": "",
            "description_tooltip": null,
            "layout": "IPY_MODEL_864487d3736546e7b18dc5285216b12a",
            "placeholder": "​",
            "style": "IPY_MODEL_f9f74413e61543d78698cdaa0f590ab0",
            "value": "Downloading: 100%"
          }
        },
        "e9e23910777f4d7a870303ff95ec4582": {
          "model_module": "@jupyter-widgets/controls",
          "model_name": "FloatProgressModel",
          "model_module_version": "1.5.0",
          "state": {
            "_dom_classes": [],
            "_model_module": "@jupyter-widgets/controls",
            "_model_module_version": "1.5.0",
            "_model_name": "FloatProgressModel",
            "_view_count": null,
            "_view_module": "@jupyter-widgets/controls",
            "_view_module_version": "1.5.0",
            "_view_name": "ProgressView",
            "bar_style": "success",
            "description": "",
            "description_tooltip": null,
            "layout": "IPY_MODEL_b3576201f34c40eeb27ff621f44dac38",
            "max": 445032417,
            "min": 0,
            "orientation": "horizontal",
            "style": "IPY_MODEL_f2e1e0e7d133426e872031e8262fe866",
            "value": 445032417
          }
        },
        "e04c3ad9866e486186a1e768c2a0775a": {
          "model_module": "@jupyter-widgets/controls",
          "model_name": "HTMLModel",
          "model_module_version": "1.5.0",
          "state": {
            "_dom_classes": [],
            "_model_module": "@jupyter-widgets/controls",
            "_model_module_version": "1.5.0",
            "_model_name": "HTMLModel",
            "_view_count": null,
            "_view_module": "@jupyter-widgets/controls",
            "_view_module_version": "1.5.0",
            "_view_name": "HTMLView",
            "description": "",
            "description_tooltip": null,
            "layout": "IPY_MODEL_fdb4158889d0436ba53e8e2228bafbfb",
            "placeholder": "​",
            "style": "IPY_MODEL_a338fb7f1499480cb393895a2d7ce149",
            "value": " 424M/424M [00:17&lt;00:00, 17.5MB/s]"
          }
        },
        "2e7d13e0c93743249edc20f85b2e6cf2": {
          "model_module": "@jupyter-widgets/base",
          "model_name": "LayoutModel",
          "model_module_version": "1.2.0",
          "state": {
            "_model_module": "@jupyter-widgets/base",
            "_model_module_version": "1.2.0",
            "_model_name": "LayoutModel",
            "_view_count": null,
            "_view_module": "@jupyter-widgets/base",
            "_view_module_version": "1.2.0",
            "_view_name": "LayoutView",
            "align_content": null,
            "align_items": null,
            "align_self": null,
            "border": null,
            "bottom": null,
            "display": null,
            "flex": null,
            "flex_flow": null,
            "grid_area": null,
            "grid_auto_columns": null,
            "grid_auto_flow": null,
            "grid_auto_rows": null,
            "grid_column": null,
            "grid_gap": null,
            "grid_row": null,
            "grid_template_areas": null,
            "grid_template_columns": null,
            "grid_template_rows": null,
            "height": null,
            "justify_content": null,
            "justify_items": null,
            "left": null,
            "margin": null,
            "max_height": null,
            "max_width": null,
            "min_height": null,
            "min_width": null,
            "object_fit": null,
            "object_position": null,
            "order": null,
            "overflow": null,
            "overflow_x": null,
            "overflow_y": null,
            "padding": null,
            "right": null,
            "top": null,
            "visibility": null,
            "width": null
          }
        },
        "864487d3736546e7b18dc5285216b12a": {
          "model_module": "@jupyter-widgets/base",
          "model_name": "LayoutModel",
          "model_module_version": "1.2.0",
          "state": {
            "_model_module": "@jupyter-widgets/base",
            "_model_module_version": "1.2.0",
            "_model_name": "LayoutModel",
            "_view_count": null,
            "_view_module": "@jupyter-widgets/base",
            "_view_module_version": "1.2.0",
            "_view_name": "LayoutView",
            "align_content": null,
            "align_items": null,
            "align_self": null,
            "border": null,
            "bottom": null,
            "display": null,
            "flex": null,
            "flex_flow": null,
            "grid_area": null,
            "grid_auto_columns": null,
            "grid_auto_flow": null,
            "grid_auto_rows": null,
            "grid_column": null,
            "grid_gap": null,
            "grid_row": null,
            "grid_template_areas": null,
            "grid_template_columns": null,
            "grid_template_rows": null,
            "height": null,
            "justify_content": null,
            "justify_items": null,
            "left": null,
            "margin": null,
            "max_height": null,
            "max_width": null,
            "min_height": null,
            "min_width": null,
            "object_fit": null,
            "object_position": null,
            "order": null,
            "overflow": null,
            "overflow_x": null,
            "overflow_y": null,
            "padding": null,
            "right": null,
            "top": null,
            "visibility": null,
            "width": null
          }
        },
        "f9f74413e61543d78698cdaa0f590ab0": {
          "model_module": "@jupyter-widgets/controls",
          "model_name": "DescriptionStyleModel",
          "model_module_version": "1.5.0",
          "state": {
            "_model_module": "@jupyter-widgets/controls",
            "_model_module_version": "1.5.0",
            "_model_name": "DescriptionStyleModel",
            "_view_count": null,
            "_view_module": "@jupyter-widgets/base",
            "_view_module_version": "1.2.0",
            "_view_name": "StyleView",
            "description_width": ""
          }
        },
        "b3576201f34c40eeb27ff621f44dac38": {
          "model_module": "@jupyter-widgets/base",
          "model_name": "LayoutModel",
          "model_module_version": "1.2.0",
          "state": {
            "_model_module": "@jupyter-widgets/base",
            "_model_module_version": "1.2.0",
            "_model_name": "LayoutModel",
            "_view_count": null,
            "_view_module": "@jupyter-widgets/base",
            "_view_module_version": "1.2.0",
            "_view_name": "LayoutView",
            "align_content": null,
            "align_items": null,
            "align_self": null,
            "border": null,
            "bottom": null,
            "display": null,
            "flex": null,
            "flex_flow": null,
            "grid_area": null,
            "grid_auto_columns": null,
            "grid_auto_flow": null,
            "grid_auto_rows": null,
            "grid_column": null,
            "grid_gap": null,
            "grid_row": null,
            "grid_template_areas": null,
            "grid_template_columns": null,
            "grid_template_rows": null,
            "height": null,
            "justify_content": null,
            "justify_items": null,
            "left": null,
            "margin": null,
            "max_height": null,
            "max_width": null,
            "min_height": null,
            "min_width": null,
            "object_fit": null,
            "object_position": null,
            "order": null,
            "overflow": null,
            "overflow_x": null,
            "overflow_y": null,
            "padding": null,
            "right": null,
            "top": null,
            "visibility": null,
            "width": null
          }
        },
        "f2e1e0e7d133426e872031e8262fe866": {
          "model_module": "@jupyter-widgets/controls",
          "model_name": "ProgressStyleModel",
          "model_module_version": "1.5.0",
          "state": {
            "_model_module": "@jupyter-widgets/controls",
            "_model_module_version": "1.5.0",
            "_model_name": "ProgressStyleModel",
            "_view_count": null,
            "_view_module": "@jupyter-widgets/base",
            "_view_module_version": "1.2.0",
            "_view_name": "StyleView",
            "bar_color": null,
            "description_width": ""
          }
        },
        "fdb4158889d0436ba53e8e2228bafbfb": {
          "model_module": "@jupyter-widgets/base",
          "model_name": "LayoutModel",
          "model_module_version": "1.2.0",
          "state": {
            "_model_module": "@jupyter-widgets/base",
            "_model_module_version": "1.2.0",
            "_model_name": "LayoutModel",
            "_view_count": null,
            "_view_module": "@jupyter-widgets/base",
            "_view_module_version": "1.2.0",
            "_view_name": "LayoutView",
            "align_content": null,
            "align_items": null,
            "align_self": null,
            "border": null,
            "bottom": null,
            "display": null,
            "flex": null,
            "flex_flow": null,
            "grid_area": null,
            "grid_auto_columns": null,
            "grid_auto_flow": null,
            "grid_auto_rows": null,
            "grid_column": null,
            "grid_gap": null,
            "grid_row": null,
            "grid_template_areas": null,
            "grid_template_columns": null,
            "grid_template_rows": null,
            "height": null,
            "justify_content": null,
            "justify_items": null,
            "left": null,
            "margin": null,
            "max_height": null,
            "max_width": null,
            "min_height": null,
            "min_width": null,
            "object_fit": null,
            "object_position": null,
            "order": null,
            "overflow": null,
            "overflow_x": null,
            "overflow_y": null,
            "padding": null,
            "right": null,
            "top": null,
            "visibility": null,
            "width": null
          }
        },
        "a338fb7f1499480cb393895a2d7ce149": {
          "model_module": "@jupyter-widgets/controls",
          "model_name": "DescriptionStyleModel",
          "model_module_version": "1.5.0",
          "state": {
            "_model_module": "@jupyter-widgets/controls",
            "_model_module_version": "1.5.0",
            "_model_name": "DescriptionStyleModel",
            "_view_count": null,
            "_view_module": "@jupyter-widgets/base",
            "_view_module_version": "1.2.0",
            "_view_name": "StyleView",
            "description_width": ""
          }
        }
      }
    }
  },
  "cells": [
    {
      "cell_type": "markdown",
      "metadata": {
        "id": "FHKxx_mV56pv"
      },
      "source": [
        "---\n",
        "<h1 align=\"center\"><strong>Semantic Similarity CamemBERT</strong><h1>\n",
        "<h1 align=\"center\">---Similar / Not similar---<h1>\n",
        "\n",
        "---"
      ]
    },
    {
      "cell_type": "code",
      "metadata": {
        "id": "cduvVEPl500T",
        "colab": {
          "base_uri": "https://localhost:8080/"
        },
        "outputId": "b9076555-7c9b-43b6-8527-613910544f06"
      },
      "source": [
        "!pip install transformers -q\n",
        "!pip install SentencePiece -q\n",
        "!pip install datasets -q"
      ],
      "execution_count": null,
      "outputs": [
        {
          "output_type": "stream",
          "name": "stdout",
          "text": [
            "\u001b[K     |████████████████████████████████| 4.2 MB 4.4 MB/s \n",
            "\u001b[K     |████████████████████████████████| 596 kB 36.8 MB/s \n",
            "\u001b[K     |████████████████████████████████| 86 kB 4.0 MB/s \n",
            "\u001b[K     |████████████████████████████████| 6.6 MB 35.5 MB/s \n",
            "\u001b[K     |████████████████████████████████| 1.2 MB 9.4 MB/s \n",
            "\u001b[K     |████████████████████████████████| 346 kB 7.7 MB/s \n",
            "\u001b[K     |████████████████████████████████| 86 kB 6.2 MB/s \n",
            "\u001b[K     |████████████████████████████████| 212 kB 50.0 MB/s \n",
            "\u001b[K     |████████████████████████████████| 1.1 MB 48.7 MB/s \n",
            "\u001b[K     |████████████████████████████████| 140 kB 53.4 MB/s \n",
            "\u001b[K     |████████████████████████████████| 127 kB 49.9 MB/s \n",
            "\u001b[K     |████████████████████████████████| 271 kB 51.5 MB/s \n",
            "\u001b[K     |████████████████████████████████| 94 kB 3.4 MB/s \n",
            "\u001b[K     |████████████████████████████████| 144 kB 49.6 MB/s \n",
            "\u001b[K     |████████████████████████████████| 112 kB 53.5 MB/s \n",
            "\u001b[31mERROR: pip's dependency resolver does not currently take into account all the packages that are installed. This behaviour is the source of the following dependency conflicts.\n",
            "datascience 0.10.6 requires folium==0.2.1, but you have folium 0.8.3 which is incompatible.\u001b[0m\n",
            "\u001b[?25h"
          ]
        }
      ]
    },
    {
      "cell_type": "markdown",
      "metadata": {
        "id": "yMRHsMrp6IB-"
      },
      "source": [
        "### Required libraries"
      ]
    },
    {
      "cell_type": "code",
      "metadata": {
        "id": "-mCM700X6Keh"
      },
      "source": [
        "import numpy as np\n",
        "import pandas as pd\n",
        "import matplotlib.pyplot as plt\n",
        "import seaborn as sns\n",
        "\n",
        "from datasets import load_dataset\n",
        "\n",
        "import torch\n",
        "import torch.nn as nn\n",
        "from torch.utils.data import Dataset, DataLoader\n",
        "\n",
        "import transformers\n",
        "from transformers import AdamW, get_linear_schedule_with_warmup\n",
        "\n",
        "from sklearn import model_selection, metrics\n",
        "\n",
        "from tqdm import tqdm\n",
        "from collections import defaultdict\n",
        "\n",
        "import warnings\n",
        "warnings.filterwarnings(\"ignore\")"
      ],
      "execution_count": null,
      "outputs": []
    },
    {
      "cell_type": "markdown",
      "source": [
        "### Utils"
      ],
      "metadata": {
        "id": "LcJVESwanfFm"
      }
    },
    {
      "cell_type": "code",
      "source": [
        "def convert_dataset(dataset):\n",
        "  dataset_samples= pd.DataFrame(columns = [\"sentence1\",\"sentence2\", \"similarity_score\"])\n",
        "  for df in dataset:\n",
        "    score = float(df['similarity_score'])/5.0\n",
        "    dataset_samples = dataset_samples.append(df, ignore_index = True)\n",
        "  dataset_samples['similarity_score']= dataset_samples.apply(lambda col: float(col.similarity_score)/5.0, axis=1)\n",
        "  return dataset_samples\n",
        "\n",
        "def get_sts_df(df_train, df_valid, df_test):\n",
        "  train_samples = convert_dataset(df_train)\n",
        "  dev_samples = convert_dataset(df_valid)\n",
        "  test_samples = convert_dataset(df_test)\n",
        "\n",
        "  df = pd.concat([train_samples, dev_samples, test_samples], axis=0)\n",
        "  df.reset_index(drop=True, inplace=True)\n",
        "  df[\"similarity_score\"] = df[\"similarity_score\"].apply(lambda score: 1 if score> 0.7 else 0)\n",
        "  return df"
      ],
      "metadata": {
        "id": "DNnSu2NVlzy8"
      },
      "execution_count": null,
      "outputs": []
    },
    {
      "cell_type": "code",
      "source": [
        "df_train = load_dataset(\"stsb_multi_mt\", name=\"fr\", split=\"train\")\n",
        "df_valid = load_dataset(\"stsb_multi_mt\", name=\"fr\", split=\"dev\")\n",
        "df_test = load_dataset(\"stsb_multi_mt\", name=\"fr\", split=\"test\")\n",
        "\n",
        "df = get_sts_df(df_train, df_valid, df_test)\n",
        "df.to_csv(\"sts.csv\")"
      ],
      "metadata": {
        "colab": {
          "base_uri": "https://localhost:8080/"
        },
        "id": "u2sQzVzqnMKs",
        "outputId": "8af1c338-6993-41a5-8063-b6fd394c0164"
      },
      "execution_count": null,
      "outputs": [
        {
          "output_type": "stream",
          "name": "stderr",
          "text": [
            "Reusing dataset stsb_multi_mt (/root/.cache/huggingface/datasets/stsb_multi_mt/fr/1.0.0/a5d260e4b7aa82d1ab7379523a005a366d9b124c76a5a5cf0c4c5365458b0ba9)\n",
            "Reusing dataset stsb_multi_mt (/root/.cache/huggingface/datasets/stsb_multi_mt/fr/1.0.0/a5d260e4b7aa82d1ab7379523a005a366d9b124c76a5a5cf0c4c5365458b0ba9)\n",
            "Reusing dataset stsb_multi_mt (/root/.cache/huggingface/datasets/stsb_multi_mt/fr/1.0.0/a5d260e4b7aa82d1ab7379523a005a366d9b124c76a5a5cf0c4c5365458b0ba9)\n"
          ]
        }
      ]
    },
    {
      "cell_type": "code",
      "metadata": {
        "colab": {
          "base_uri": "https://localhost:8080/",
          "height": 332
        },
        "id": "__IuX_Ae_SGA",
        "outputId": "5d67ce18-ce19-4a40-f06f-35c92d56079b"
      },
      "source": [
        "df = pd.read_csv(\"sts.csv\")\n",
        "\n",
        "df[\"similarity_score\"].value_counts().plot(kind='bar',\n",
        "                                    color=['green','red'],\n",
        "                                    title='Distribution of Positive and Negative Reviews',\n",
        "                                    figsize=(5,5));"
      ],
      "execution_count": null,
      "outputs": [
        {
          "output_type": "display_data",
          "data": {
            "text/plain": [
              "<Figure size 360x360 with 1 Axes>"
            ],
            "image/png": "[encoded data removed]"
          },
          "metadata": {
            "needs_background": "light"
          }
        }
      ]
    },
    {
      "cell_type": "code",
      "metadata": {
        "id": "bjMu1emU_XJi",
        "colab": {
          "base_uri": "https://localhost:8080/",
          "height": 185,
          "referenced_widgets": [
            "02abf7213ab946a68d6750cf0548aefc",
            "cd78e1c357a2449eb3d6eed9ce810154",
            "f4c9a2e1e27b4491af24a017765af4a8",
            "a6700b381fc44d3aaa5f0c2e2fa6fbf3",
            "147bd31077054aa88db4a806bb68c694",
            "20f4b9f5815f4eb0b9fdb2bd22799924",
            "375eeeaab5fc4aa69544a74ff43382fb",
            "eb88248fdaa84416aaa9f2695d23ad87",
            "7bda8c5c84fd431cbdb7ad43a1cb845b",
            "3524cd78a4c74f31a1cefd17555ae671",
            "0afb6d7fafac4a7d8304f4f3b3fce31f",
            "26e45ea283de45d4abc969a8d57e6610",
            "9fd1cba6bf874e3980ee4bea7ee42324",
            "f357eaed086c48d5900c79a0b61a5195",
            "321334e2ca0e4ae6b37a5f580d19b0e6",
            "3257acbe76704095bd57e3e2651ca257",
            "7f3538d0101e495ca1df463cc1bd5291",
            "f972372a56324c9394975d02a1dc7cea",
            "07b972dd581c4ecb9be7edd8d0595ace",
            "488e506a4069495a88029702bd0b2eec",
            "3ef0a0516231440f829895c1439d2384",
            "5239bd2d4cf54176b392a64d75791cb3",
            "846cae71e3dc416aba19e7b152209a19",
            "1ea5be2143134dd293a7d040351b590a",
            "e9e23910777f4d7a870303ff95ec4582",
            "e04c3ad9866e486186a1e768c2a0775a",
            "2e7d13e0c93743249edc20f85b2e6cf2",
            "864487d3736546e7b18dc5285216b12a",
            "f9f74413e61543d78698cdaa0f590ab0",
            "b3576201f34c40eeb27ff621f44dac38",
            "f2e1e0e7d133426e872031e8262fe866",
            "fdb4158889d0436ba53e8e2228bafbfb",
            "a338fb7f1499480cb393895a2d7ce149"
          ]
        },
        "outputId": "6fa3c44a-6244-49b0-9c13-863c60ca1e28"
      },
      "source": [
        "class Config:\n",
        "  MAX_LEN = 64\n",
        "  TRAIN_BATCH_SIZE = 8\n",
        "  VALID_BATCH_SIZE = 4\n",
        "  EPOCHS = 2\n",
        "  DEVICE = torch.device(\"cuda\" if torch.cuda.is_available() else \"cpu\")\n",
        "\n",
        "  CamemeBERT_PATH = \"camembert-base\"\n",
        "  MODEL_PATH = \"stscamembertModel.bin\"\n",
        "  TRAINING_DATA = \"sts.csv\"\n",
        "\n",
        "  TOKENIZER = transformers.CamembertTokenizer.from_pretrained(CamemeBERT_PATH, do_lower_case = True)\n",
        "  MODEL = transformers.CamembertModel.from_pretrained(CamemeBERT_PATH, return_dict=False)"
      ],
      "execution_count": null,
      "outputs": [
        {
          "output_type": "display_data",
          "data": {
            "text/plain": [
              "Downloading:   0%|          | 0.00/792k [00:00<?, ?B/s]"
            ],
            "application/vnd.jupyter.widget-view+json": {
              "version_major": 2,
              "version_minor": 0,
              "model_id": "02abf7213ab946a68d6750cf0548aefc"
            }
          },
          "metadata": {}
        },
        {
          "output_type": "display_data",
          "data": {
            "text/plain": [
              "Downloading:   0%|          | 0.00/508 [00:00<?, ?B/s]"
            ],
            "application/vnd.jupyter.widget-view+json": {
              "version_major": 2,
              "version_minor": 0,
              "model_id": "26e45ea283de45d4abc969a8d57e6610"
            }
          },
          "metadata": {}
        },
        {
          "output_type": "display_data",
          "data": {
            "text/plain": [
              "Downloading:   0%|          | 0.00/424M [00:00<?, ?B/s]"
            ],
            "application/vnd.jupyter.widget-view+json": {
              "version_major": 2,
              "version_minor": 0,
              "model_id": "846cae71e3dc416aba19e7b152209a19"
            }
          },
          "metadata": {}
        },
        {
          "output_type": "stream",
          "name": "stderr",
          "text": [
            "Some weights of the model checkpoint at camembert-base were not used when initializing CamembertModel: ['lm_head.layer_norm.bias', 'lm_head.dense.weight', 'lm_head.dense.bias', 'lm_head.layer_norm.weight', 'lm_head.bias', 'lm_head.decoder.weight']\n",
            "- This IS expected if you are initializing CamembertModel from the checkpoint of a model trained on another task or with another architecture (e.g. initializing a BertForSequenceClassification model from a BertForPreTraining model).\n",
            "- This IS NOT expected if you are initializing CamembertModel from the checkpoint of a model that you expect to be exactly identical (initializing a BertForSequenceClassification model from a BertForSequenceClassification model).\n"
          ]
        }
      ]
    },
    {
      "cell_type": "markdown",
      "metadata": {
        "id": "_pXvarT5_9g4"
      },
      "source": [
        "### Dataset"
      ]
    },
    {
      "cell_type": "code",
      "metadata": {
        "id": "uM4OxpG-_2j_"
      },
      "source": [
        "class DataProcess:\n",
        "  def __init__(self, sent1, sent2):\n",
        "    self.tokenizer = Config.TOKENIZER\n",
        "    self.max_len = Config.MAX_LEN\n",
        "\n",
        "    self.sent1 = sent1\n",
        "    self.sent2 = sent2\n",
        "    \n",
        "  def preprocess_bert(self):\n",
        "    sent1 = \" \".join(self.sent1.split())\n",
        "    sent2 = \" \".join(self.sent2.split())\n",
        "    inputs = self.tokenizer.encode_plus(\n",
        "        sent1,\n",
        "        sent2,\n",
        "        add_special_tokens=True,\n",
        "        max_length=self.max_len,\n",
        "        # padding = \"max_length\",\n",
        "        truncation=True\n",
        "        )\n",
        "\n",
        "    input_ids = inputs[\"input_ids\"]\n",
        "    attention_mask = inputs[\"attention_mask\"]\n",
        "\n",
        "    return (\n",
        "        torch.tensor(input_ids, dtype=torch.long).unsqueeze(0),\n",
        "        torch.tensor(attention_mask, dtype=torch.long).unsqueeze(0)\n",
        "        )\n",
        "    \n",
        "  def preprocess_output(self, outputs):\n",
        "    outputs = torch.sigmoid(outputs).cpu().detach().numpy()\n",
        "    return outputs[0][0]\n",
        "\n",
        "\n",
        "class STS:\n",
        "  def __init__(self,  sent1, sent2, label):\n",
        "    self.sent1 = sent1\n",
        "    self.sent2 = sent2\n",
        "    \n",
        "    self.label = label\n",
        "    self.max_len = Config.MAX_LEN\n",
        "    self.tokenizer = Config.TOKENIZER\n",
        "  \n",
        "  def __len__(self):\n",
        "    return len(self.sent1)\n",
        "  \n",
        "  def __getitem__(self, item):\n",
        "    sent1 = str(self.sent1[item])\n",
        "    sent1 = \" \".join(sent1.split())\n",
        "\n",
        "    sent2 = str(self.sent2[item])\n",
        "    sent2 = \" \".join(sent2.split())\n",
        "\n",
        "    inputs = self.tokenizer.encode_plus(\n",
        "        sent1,\n",
        "        sent2,\n",
        "        add_special_tokens=True,\n",
        "        max_length=self.max_len,\n",
        "        padding=\"max_length\",\n",
        "        truncation=True\n",
        "    )\n",
        "\n",
        "    input_ids = inputs[\"input_ids\"]\n",
        "    attention_mask = inputs[\"attention_mask\"]\n",
        "\n",
        "    return {\n",
        "        \"input_ids\" : torch.tensor(input_ids, dtype=torch.long),\n",
        "        \"attention_mask\" : torch.tensor(attention_mask, dtype=torch.long),\n",
        "        \"labels\" : torch.tensor(self.label[item], dtype=torch.float)\n",
        "    }"
      ],
      "execution_count": null,
      "outputs": []
    },
    {
      "cell_type": "markdown",
      "metadata": {
        "id": "9WWMk3LWEe3Q"
      },
      "source": [
        "### Cross Model"
      ]
    },
    {
      "cell_type": "markdown",
      "metadata": {
        "id": "xD-G5YReRMYj"
      },
      "source": [
        "![image.png](data:image/png;base64,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)"
      ]
    },
    {
      "cell_type": "code",
      "metadata": {
        "id": "Rc1T_69ODfDn"
      },
      "source": [
        "class CamemBERTModel(nn.Module):\n",
        "  def __init__(self):\n",
        "    super(CamemBERTModel, self).__init__()\n",
        "    self.camembert = Config.MODEL\n",
        "    self.camembert_drop = nn.Dropout(0.3)\n",
        "    self.out = nn.Linear(768, 1)\n",
        "\n",
        "  def forward(self, input_ids, attention_mask):\n",
        "    _, pooled_output = self.camembert(input_ids=input_ids, attention_mask=attention_mask)\n",
        "    rbo = self.camembert_drop(pooled_output)\n",
        "    output = self.out(rbo)\n",
        "    \n",
        "    return output"
      ],
      "execution_count": null,
      "outputs": []
    },
    {
      "cell_type": "markdown",
      "metadata": {
        "id": "K-FeKYMHGJTT"
      },
      "source": [
        "### Engine"
      ]
    },
    {
      "cell_type": "code",
      "metadata": {
        "id": "W1MTMuv0GG2D"
      },
      "source": [
        "def loss_fn(outputs, labels):\n",
        "  return nn.BCEWithLogitsLoss()(outputs, labels.view(-1, 1))\n",
        "\n",
        "def train_fn(train_dataloader, model, optimizer, device, scheduler):\n",
        "  model.train()\n",
        "  final_loss = 0\n",
        "\n",
        "  fin_labels = []\n",
        "  fin_outputs = []\n",
        "  for bi, d in tqdm(enumerate(train_dataloader), total=len(train_dataloader)):\n",
        "    input_ids = d[\"input_ids\"]\n",
        "    attention_mask = d[\"attention_mask\"]\n",
        "    labels = d[\"labels\"]\n",
        "\n",
        "    input_ids = input_ids.to(device, dtype=torch.long)\n",
        "    attention_mask = attention_mask.to(device, dtype=torch.long)\n",
        "    labels = labels.to(device, dtype = torch.float)\n",
        "\n",
        "    optimizer.zero_grad()\n",
        "    outputs = model(input_ids=input_ids, attention_mask=attention_mask)\n",
        "    loss = loss_fn(outputs, labels)\n",
        "    \n",
        "    final_loss += loss.item()\n",
        "    fin_labels.extend(labels.cpu().detach().numpy().tolist())\n",
        "    fin_outputs.extend(torch.sigmoid(outputs).cpu().detach().numpy().tolist())\n",
        "    \n",
        "    loss.backward()\n",
        "    optimizer.step()\n",
        "    scheduler.step()\n",
        "\n",
        "  return fin_outputs, fin_labels, final_loss/len(train_dataloader)\n",
        "\n",
        "def eval_fn(valid_dataloader, model, device):\n",
        "  model.eval()\n",
        "  final_loss = 0\n",
        "\n",
        "  fin_labels = []\n",
        "  fin_outputs = []\n",
        "  with torch.no_grad():\n",
        "    for bi, d in tqdm(enumerate(valid_dataloader), total=len(valid_dataloader)):\n",
        "      input_ids = d[\"input_ids\"]\n",
        "      attention_mask = d[\"attention_mask\"]\n",
        "      labels = d[\"labels\"]\n",
        "\n",
        "      input_ids = input_ids.to(device, dtype=torch.long)\n",
        "      attention_mask = attention_mask.to(device, dtype=torch.long)\n",
        "      labels = labels.to(device, dtype = torch.float)\n",
        "\n",
        "      outputs = model(input_ids=input_ids, attention_mask=attention_mask)\n",
        "      \n",
        "      loss = loss_fn(outputs, labels)\n",
        "      final_loss += loss.item()\n",
        "      \n",
        "      fin_labels.extend(labels.cpu().detach().numpy().tolist())\n",
        "      fin_outputs.extend(torch.sigmoid(outputs).cpu().detach().numpy().tolist())\n",
        "      \n",
        "\n",
        "  return fin_outputs, fin_labels, final_loss/len(valid_dataloader)"
      ],
      "execution_count": null,
      "outputs": []
    },
    {
      "cell_type": "markdown",
      "metadata": {
        "id": "ajLh7g98Hmg-"
      },
      "source": [
        "### Train"
      ]
    },
    {
      "cell_type": "code",
      "metadata": {
        "id": "jJtXvA9YHd8f"
      },
      "source": [
        "dfx = pd.read_csv(Config.TRAINING_DATA).fillna(\"none\")\n",
        "\n",
        "df_train, df_valid = model_selection.train_test_split(\n",
        "    dfx, test_size=0.1, random_state=42, stratify=dfx.similarity_score.values\n",
        "    )\n",
        "\n",
        "df_train = df_train.reset_index(drop=True)\n",
        "df_valid = df_valid.reset_index(drop=True)\n",
        "\n",
        "train_dataset = STS(\n",
        "    sent1=df_train.sentence1.values, \n",
        "    sent2=df_train.sentence2.values, \n",
        "    label=df_train.similarity_score.values\n",
        ")\n",
        "train_dataloader = DataLoader(train_dataset, batch_size=Config.TRAIN_BATCH_SIZE, num_workers=4)\n",
        "\n",
        "valid_dataset = STS(\n",
        "    sent1=df_valid.sentence1.values, \n",
        "    sent2=df_valid.sentence2.values, \n",
        "    label=df_valid.similarity_score.values\n",
        ")\n",
        "valid_dataloader = DataLoader(valid_dataset, batch_size=Config.VALID_BATCH_SIZE, num_workers=1)\n",
        "\n",
        "model = CamemBERTModel()\n",
        "model.to(Config.DEVICE)\n",
        "\n",
        "param_optimizer = list(model.named_parameters())\n",
        "no_decay = [\"bias\", \"LayerNorm.bias\", \"LayerNorm.weight\"]\n",
        "optimizer_parameters = [\n",
        "                        {\n",
        "                            \"params\": [\n",
        "                                       p for n, p in param_optimizer if not any(nd in n for nd in no_decay)\n",
        "                                       ],\n",
        "                         \"weight_decay\": 0.001,\n",
        "                         },\n",
        "                        {\n",
        "                            \"params\": [\n",
        "                                       p for n, p in param_optimizer if any(nd in n for nd in no_decay)\n",
        "                                       ],\n",
        "                         \"weight_decay\": 0.0,\n",
        "                         },\n",
        "                        ]\n",
        "\n",
        "num_train_steps = int(len(df_train) / Config.TRAIN_BATCH_SIZE * Config.EPOCHS)\n",
        "optimizer = AdamW(optimizer_parameters, lr=3e-5)\n",
        "scheduler = get_linear_schedule_with_warmup(\n",
        "    optimizer, num_warmup_steps=0, num_training_steps=num_train_steps\n",
        "    )"
      ],
      "execution_count": null,
      "outputs": []
    },
    {
      "cell_type": "code",
      "source": [
        "history = defaultdict(list)\n",
        "best_accuracy = 0\n",
        "for epoch in range(1, Config.EPOCHS+1):\n",
        "  train_outputs, train_labels, train_loss = train_fn(train_dataloader, model, optimizer, Config.DEVICE, scheduler)\n",
        "  valid_outputs, valid_labels, valid_loss = eval_fn(valid_dataloader, model, Config.DEVICE)\n",
        "  \n",
        "  train_outputs = np.array(train_outputs) >= 0.5\n",
        "  valid_outputs = np.array(valid_outputs) >= 0.5\n",
        "\n",
        "  train_accuracy = metrics.accuracy_score(train_labels, train_outputs)\n",
        "  valid_accuracy = metrics.accuracy_score(valid_labels, valid_outputs)\n",
        "\n",
        "  print(f\"Epoch: {epoch}\\nTrain Loss: {train_loss} - Train Accuracy: {train_accuracy} \\nValid Loss: {valid_loss} - Valid Accuracy: {valid_accuracy}\\n\")\n",
        "  \n",
        "  history['Train Loss'].append(train_loss)\n",
        "  history['Train Accuracy'].append(train_accuracy)\n",
        "  history['Valid Loss'].append(valid_loss)\n",
        "  history['Valid Accuracy'].append(valid_accuracy)\n",
        "  \n",
        "  if valid_accuracy > best_accuracy:\n",
        "    torch.save(model.state_dict(), Config.MODEL_PATH)\n",
        "    best_accuracy = valid_accuracy"
      ],
      "metadata": {
        "id": "Vm6g9i7hsacL"
      },
      "execution_count": null,
      "outputs": []
    },
    {
      "cell_type": "markdown",
      "metadata": {
        "id": "vE-M7pWhNoWP"
      },
      "source": [
        "### Error Analysis & Performance auditing"
      ]
    },
    {
      "cell_type": "code",
      "metadata": {
        "id": "uhEwvJWgJipP"
      },
      "source": [
        "def get_metrics(labels, outputs):\n",
        "  accuracy = metrics.accuracy_score(labels, outputs)\n",
        "  recall = metrics.recall_score(labels, outputs)\n",
        "  precision = metrics.precision_score(labels, outputs)\n",
        "  f1 = metrics.f1_score(labels, outputs)\n",
        "  return accuracy, recall, precision, f1"
      ],
      "execution_count": null,
      "outputs": []
    },
    {
      "cell_type": "code",
      "metadata": {
        "colab": {
          "base_uri": "https://localhost:8080/",
          "height": 677
        },
        "id": "PrI2neBZNsb4",
        "outputId": "6300d7d6-39aa-4a3c-b1a7-ffbceaf8d63c"
      },
      "source": [
        "accuracy, recall, precision, f1 = get_metrics(valid_labels, valid_outputs)\n",
        "\n",
        "print(\"===\"*50)\n",
        "print(\"\\nResults summary\\n\")\n",
        "print(f\"Accuracy Score  : {accuracy}\")\n",
        "print(f\"Recall Score    : {recall}\")\n",
        "print(f\"Precision Score : {precision}\")\n",
        "print(f\"F1 Score        : {f1}\")\n",
        "\n",
        "print(\"===\"*50)\n",
        "print(\"\\nClassification report \\n\\n\", metrics.classification_report(valid_labels, valid_outputs))\n",
        "\n",
        "print(\"===\"*50)\n",
        "cm = metrics.confusion_matrix(valid_labels, valid_outputs)\n",
        "fig, ax = plt.subplots()\n",
        "sns.heatmap(cm, annot=True, fmt='d', ax=ax, cmap=plt.cm.Blues, cbar=False)\n",
        "ax.set(xlabel=\"Predicted Label\", \n",
        "       ylabel=\"True Label\", \n",
        "       xticklabels=np.unique(valid_labels), \n",
        "       yticklabels=np.unique(valid_labels), \n",
        "       title=\"CONFUSION MATRIX\")\n",
        "plt.yticks(rotation=0);"
      ],
      "execution_count": null,
      "outputs": [
        {
          "output_type": "stream",
          "name": "stdout",
          "text": [
            "======================================================================================================================================================\n",
            "\n",
            "Results summary\n",
            "\n",
            "Accuracy Score  : 0.8493626882966396\n",
            "Recall Score    : 0.7157894736842105\n",
            "Precision Score : 0.8063241106719368\n",
            "F1 Score        : 0.758364312267658\n",
            "======================================================================================================================================================\n",
            "\n",
            "Classification report \n",
            "\n",
            "               precision    recall  f1-score   support\n",
            "\n",
            "         0.0       0.87      0.92      0.89       578\n",
            "         1.0       0.81      0.72      0.76       285\n",
            "\n",
            "    accuracy                           0.85       863\n",
            "   macro avg       0.84      0.82      0.82       863\n",
            "weighted avg       0.85      0.85      0.85       863\n",
            "\n",
            "======================================================================================================================================================\n"
          ]
        },
        {
          "output_type": "display_data",
          "data": {
            "text/plain": [
              "<Figure size 432x288 with 1 Axes>"
            ],
            "image/png": "[encoded data removed]"
          },
          "metadata": {
            "needs_background": "light"
          }
        }
      ]
    },
    {
      "cell_type": "code",
      "metadata": {
        "colab": {
          "base_uri": "https://localhost:8080/",
          "height": 295
        },
        "id": "p6vSHJNcNvns",
        "outputId": "b2e58266-7d61-40e9-bd1b-dd019cfee2b1"
      },
      "source": [
        "plt.plot(history['Train Accuracy'], label='Train Accuracy')\n",
        "plt.plot(history['Valid Accuracy'], label='Validation Accuracy')\n",
        "plt.title('Training History')\n",
        "plt.ylabel('Accuracy')\n",
        "plt.xlabel('Epoch')\n",
        "plt.legend()\n",
        "plt.ylim([0, 1]);"
      ],
      "execution_count": null,
      "outputs": [
        {
          "output_type": "display_data",
          "data": {
            "text/plain": [
              "<Figure size 432x288 with 1 Axes>"
            ],
            "image/png": "[encoded data removed]"
          },
          "metadata": {
            "needs_background": "light"
          }
        }
      ]
    },
    {
      "cell_type": "code",
      "metadata": {
        "colab": {
          "base_uri": "https://localhost:8080/",
          "height": 295
        },
        "id": "SnZXZA60N5Ro",
        "outputId": "c8b51873-bb71-441f-b7ce-64ea0b941383"
      },
      "source": [
        "plt.plot(history['Train Loss'], label='Train Loss')\n",
        "plt.plot(history['Valid Loss'], label='Validation Loss')\n",
        "plt.title('Training History')\n",
        "plt.ylabel('Loss')\n",
        "plt.xlabel('Epoch')\n",
        "plt.legend()\n",
        "plt.ylim([0, 1]);"
      ],
      "execution_count": null,
      "outputs": [
        {
          "output_type": "display_data",
          "data": {
            "text/plain": [
              "<Figure size 432x288 with 1 Axes>"
            ],
            "image/png": "[encoded data removed]"
          },
          "metadata": {
            "needs_background": "light"
          }
        }
      ]
    },
    {
      "cell_type": "markdown",
      "metadata": {
        "id": "S_iAUJFrN8kc"
      },
      "source": [
        "### Inference"
      ]
    },
    {
      "cell_type": "code",
      "metadata": {
        "id": "S1xsK-b-N7Vq"
      },
      "source": [
        "model = CamemBERTModel()\n",
        "model.to(Config.DEVICE)\n",
        "model.load_state_dict(\n",
        "    torch.load(\n",
        "        Config.MODEL_PATH,\n",
        "        map_location=torch.device(Config.DEVICE)\n",
        "        )\n",
        "    )\n",
        "\n",
        "def predict(sent1: str, sent2: str):\n",
        "  data = DataProcess(sent1, sent2)\n",
        "  input_ids, attention_mask = data.preprocess_bert()\n",
        "  \n",
        "  input_ids = input_ids.to(Config.DEVICE, dtype=torch.long)\n",
        "  attention_mask = attention_mask.to(Config.DEVICE, dtype=torch.long)\n",
        "  \n",
        "  outputs = model(input_ids, attention_mask) \n",
        "  similarity_Score = data.preprocess_output(outputs)\n",
        "  no_similarity_Score = 1 - similarity_Score\n",
        "  \n",
        "  return {\n",
        "      \"sentence1\": sent1,\n",
        "      \"sentence2\": sent2,\n",
        "      \"similarity Score\": str(similarity_Score),\n",
        "      \"no similarity Score\": str(no_similarity_Score),\n",
        "  }"
      ],
      "execution_count": null,
      "outputs": []
    },
    {
      "cell_type": "code",
      "source": [
        "df"
      ],
      "metadata": {
        "colab": {
          "base_uri": "https://localhost:8080/",
          "height": 424
        },
        "id": "avJMFMkgz6Ol",
        "outputId": "03f6ab54-a68c-48a6-ae7d-0c6941c57f7d"
      },
      "execution_count": null,
      "outputs": [
        {
          "output_type": "execute_result",
          "data": {
            "text/plain": [
              "      Unnamed: 0                                          sentence1  \\\n",
              "0              0                 Un avion est en train de décoller.   \n",
              "1              1                  Un homme joue d'une grande flûte.   \n",
              "2              2      Un homme étale du fromage râpé sur une pizza.   \n",
              "3              3                    Trois hommes jouent aux échecs.   \n",
              "4              4                      Un homme joue du violoncelle.   \n",
              "...          ...                                                ...   \n",
              "8623        8623  Les Philippines et le Canada s'engagent à renf...   \n",
              "8624        8624  Israël interdit aux Palestiniens l'accès à la ...   \n",
              "8625        8625              Que savez-vous des services secrets ?   \n",
              "8626        8626  Obama s'efforce d'apaiser les craintes des Sao...   \n",
              "8627        8627  La Corée du Sud déclare la fin de l'épidémie d...   \n",
              "\n",
              "                                              sentence2  similarity_score  \n",
              "0                    Un avion est en train de décoller.                 1  \n",
              "1                            Un homme joue de la flûte.                 1  \n",
              "2     Un homme étale du fromage râpé sur une pizza n...                 1  \n",
              "3                        Deux hommes jouent aux échecs.                 0  \n",
              "4                   Un homme assis joue du violoncelle.                 1  \n",
              "...                                                 ...               ...  \n",
              "8623  Les Philippines en sauvent 100 après le naufra...                 0  \n",
              "8624  La solution à deux Etats entre Palestiniens, I...                 0  \n",
              "8625  Les législateurs des deux parties expriment le...                 0  \n",
              "8626  Le Myanmar s'efforce de finaliser les listes é...                 0  \n",
              "8627  Une délégation de la Corée du Nord rencontre d...                 0  \n",
              "\n",
              "[8628 rows x 4 columns]"
            ],
            "text/html": [
              "\n",
              "  <div id=\"df-c6a1b325-3db0-4ec9-be45-f7ac8b949708\">\n",
              "    <div class=\"colab-df-container\">\n",
              "      <div>\n",
              "<style scoped>\n",
              "    .dataframe tbody tr th:only-of-type {\n",
              "        vertical-align: middle;\n",
              "    }\n",
              "\n",
              "    .dataframe tbody tr th {\n",
              "        vertical-align: top;\n",
              "    }\n",
              "\n",
              "    .dataframe thead th {\n",
              "        text-align: right;\n",
              "    }\n",
              "</style>\n",
              "<table border=\"1\" class=\"dataframe\">\n",
              "  <thead>\n",
              "    <tr style=\"text-align: right;\">\n",
              "      <th></th>\n",
              "      <th>Unnamed: 0</th>\n",
              "      <th>sentence1</th>\n",
              "      <th>sentence2</th>\n",
              "      <th>similarity_score</th>\n",
              "    </tr>\n",
              "  </thead>\n",
              "  <tbody>\n",
              "    <tr>\n",
              "      <th>0</th>\n",
              "      <td>0</td>\n",
              "      <td>Un avion est en train de décoller.</td>\n",
              "      <td>Un avion est en train de décoller.</td>\n",
              "      <td>1</td>\n",
              "    </tr>\n",
              "    <tr>\n",
              "      <th>1</th>\n",
              "      <td>1</td>\n",
              "      <td>Un homme joue d'une grande flûte.</td>\n",
              "      <td>Un homme joue de la flûte.</td>\n",
              "      <td>1</td>\n",
              "    </tr>\n",
              "    <tr>\n",
              "      <th>2</th>\n",
              "      <td>2</td>\n",
              "      <td>Un homme étale du fromage râpé sur une pizza.</td>\n",
              "      <td>Un homme étale du fromage râpé sur une pizza n...</td>\n",
              "      <td>1</td>\n",
              "    </tr>\n",
              "    <tr>\n",
              "      <th>3</th>\n",
              "      <td>3</td>\n",
              "      <td>Trois hommes jouent aux échecs.</td>\n",
              "      <td>Deux hommes jouent aux échecs.</td>\n",
              "      <td>0</td>\n",
              "    </tr>\n",
              "    <tr>\n",
              "      <th>4</th>\n",
              "      <td>4</td>\n",
              "      <td>Un homme joue du violoncelle.</td>\n",
              "      <td>Un homme assis joue du violoncelle.</td>\n",
              "      <td>1</td>\n",
              "    </tr>\n",
              "    <tr>\n",
              "      <th>...</th>\n",
              "      <td>...</td>\n",
              "      <td>...</td>\n",
              "      <td>...</td>\n",
              "      <td>...</td>\n",
              "    </tr>\n",
              "    <tr>\n",
              "      <th>8623</th>\n",
              "      <td>8623</td>\n",
              "      <td>Les Philippines et le Canada s'engagent à renf...</td>\n",
              "      <td>Les Philippines en sauvent 100 après le naufra...</td>\n",
              "      <td>0</td>\n",
              "    </tr>\n",
              "    <tr>\n",
              "      <th>8624</th>\n",
              "      <td>8624</td>\n",
              "      <td>Israël interdit aux Palestiniens l'accès à la ...</td>\n",
              "      <td>La solution à deux Etats entre Palestiniens, I...</td>\n",
              "      <td>0</td>\n",
              "    </tr>\n",
              "    <tr>\n",
              "      <th>8625</th>\n",
              "      <td>8625</td>\n",
              "      <td>Que savez-vous des services secrets ?</td>\n",
              "      <td>Les législateurs des deux parties expriment le...</td>\n",
              "      <td>0</td>\n",
              "    </tr>\n",
              "    <tr>\n",
              "      <th>8626</th>\n",
              "      <td>8626</td>\n",
              "      <td>Obama s'efforce d'apaiser les craintes des Sao...</td>\n",
              "      <td>Le Myanmar s'efforce de finaliser les listes é...</td>\n",
              "      <td>0</td>\n",
              "    </tr>\n",
              "    <tr>\n",
              "      <th>8627</th>\n",
              "      <td>8627</td>\n",
              "      <td>La Corée du Sud déclare la fin de l'épidémie d...</td>\n",
              "      <td>Une délégation de la Corée du Nord rencontre d...</td>\n",
              "      <td>0</td>\n",
              "    </tr>\n",
              "  </tbody>\n",
              "</table>\n",
              "<p>8628 rows × 4 columns</p>\n",
              "</div>\n",
              "      <button class=\"colab-df-convert\" onclick=\"convertToInteractive('df-c6a1b325-3db0-4ec9-be45-f7ac8b949708')\"\n",
              "              title=\"Convert this dataframe to an interactive table.\"\n",
              "              style=\"display:none;\">\n",
              "        \n",
              "  <svg xmlns=\"http://www.w3.org/2000/svg\" height=\"24px\"viewBox=\"0 0 24 24\"\n",
              "       width=\"24px\">\n",
              "    <path d=\"M0 0h24v24H0V0z\" fill=\"none\"/>\n",
              "    <path d=\"M18.56 5.44l.94 2.06.94-2.06 2.06-.94-2.06-.94-.94-2.06-.94 2.06-2.06.94zm-11 1L8.5 8.5l.94-2.06 2.06-.94-2.06-.94L8.5 2.5l-.94 2.06-2.06.94zm10 10l.94 2.06.94-2.06 2.06-.94-2.06-.94-.94-2.06-.94 2.06-2.06.94z\"/><path d=\"M17.41 7.96l-1.37-1.37c-.4-.4-.92-.59-1.43-.59-.52 0-1.04.2-1.43.59L10.3 9.45l-7.72 7.72c-.78.78-.78 2.05 0 2.83L4 21.41c.39.39.9.59 1.41.59.51 0 1.02-.2 1.41-.59l7.78-7.78 2.81-2.81c.8-.78.8-2.07 0-2.86zM5.41 20L4 18.59l7.72-7.72 1.47 1.35L5.41 20z\"/>\n",
              "  </svg>\n",
              "      </button>\n",
              "      \n",
              "  <style>\n",
              "    .colab-df-container {\n",
              "      display:flex;\n",
              "      flex-wrap:wrap;\n",
              "      gap: 12px;\n",
              "    }\n",
              "\n",
              "    .colab-df-convert {\n",
              "      background-color: #E8F0FE;\n",
              "      border: none;\n",
              "      border-radius: 50%;\n",
              "      cursor: pointer;\n",
              "      display: none;\n",
              "      fill: #1967D2;\n",
              "      height: 32px;\n",
              "      padding: 0 0 0 0;\n",
              "      width: 32px;\n",
              "    }\n",
              "\n",
              "    .colab-df-convert:hover {\n",
              "      background-color: #E2EBFA;\n",
              "      box-shadow: 0px 1px 2px rgba(60, 64, 67, 0.3), 0px 1px 3px 1px rgba(60, 64, 67, 0.15);\n",
              "      fill: #174EA6;\n",
              "    }\n",
              "\n",
              "    [theme=dark] .colab-df-convert {\n",
              "      background-color: #3B4455;\n",
              "      fill: #D2E3FC;\n",
              "    }\n",
              "\n",
              "    [theme=dark] .colab-df-convert:hover {\n",
              "      background-color: #434B5C;\n",
              "      box-shadow: 0px 1px 3px 1px rgba(0, 0, 0, 0.15);\n",
              "      filter: drop-shadow(0px 1px 2px rgba(0, 0, 0, 0.3));\n",
              "      fill: #FFFFFF;\n",
              "    }\n",
              "  </style>\n",
              "\n",
              "      <script>\n",
              "        const buttonEl =\n",
              "          document.querySelector('#df-c6a1b325-3db0-4ec9-be45-f7ac8b949708 button.colab-df-convert');\n",
              "        buttonEl.style.display =\n",
              "          google.colab.kernel.accessAllowed ? 'block' : 'none';\n",
              "\n",
              "        async function convertToInteractive(key) {\n",
              "          const element = document.querySelector('#df-c6a1b325-3db0-4ec9-be45-f7ac8b949708');\n",
              "          const dataTable =\n",
              "            await google.colab.kernel.invokeFunction('convertToInteractive',\n",
              "                                                     [key], {});\n",
              "          if (!dataTable) return;\n",
              "\n",
              "          const docLinkHtml = 'Like what you see? Visit the ' +\n",
              "            '<a target=\"_blank\" href=https://colab.research.google.com/notebooks/data_table.ipynb>data table notebook</a>'\n",
              "            + ' to learn more about interactive tables.';\n",
              "          element.innerHTML = '';\n",
              "          dataTable['output_type'] = 'display_data';\n",
              "          await google.colab.output.renderOutput(dataTable, element);\n",
              "          const docLink = document.createElement('div');\n",
              "          docLink.innerHTML = docLinkHtml;\n",
              "          element.appendChild(docLink);\n",
              "        }\n",
              "      </script>\n",
              "    </div>\n",
              "  </div>\n",
              "  "
            ]
          },
          "metadata": {},
          "execution_count": 23
        }
      ]
    },
    {
      "cell_type": "code",
      "metadata": {
        "colab": {
          "base_uri": "https://localhost:8080/"
        },
        "id": "kSy1LWaSODot",
        "outputId": "3d4fb11c-32f0-4ba7-aacb-c2f4fef8935b"
      },
      "source": [
        "sentence1 = \"Un client content\"\n",
        "sentence2 = \"le client n'est pas content\"\n",
        "\n",
        "similarity_score = predict(sentence1, sentence2)\n",
        "print(similarity_score)"
      ],
      "execution_count": null,
      "outputs": [
        {
          "output_type": "stream",
          "name": "stdout",
          "text": [
            "{'sentence1': 'Un client content', 'sentence2': \"le client n'est pas content\", 'similarity Score': '0.9341371', 'no similarity Score': '0.06586289405822754'}\n"
          ]
        }
      ]
    },
    {
      "cell_type": "code",
      "metadata": {
        "id": "CaCVnIeaOK_d",
        "colab": {
          "base_uri": "https://localhost:8080/"
        },
        "outputId": "6fe40650-2afd-4cfb-95d8-ef15e2bb84cb"
      },
      "source": [
        "similarity_score"
      ],
      "execution_count": null,
      "outputs": [
        {
          "output_type": "execute_result",
          "data": {
            "text/plain": [
              "{'no similarity Score': '0.06586289405822754',\n",
              " 'sentence1': 'Un client content',\n",
              " 'sentence2': \"le client n'est pas content\",\n",
              " 'similarity Score': '0.9341371'}"
            ]
          },
          "metadata": {},
          "execution_count": 25
        }
      ]
    },
    {
      "cell_type": "markdown",
      "metadata": {
        "id": "nehMIkyFOa8a"
      },
      "source": [
        "### References\n",
        "* **Louis Martin, Benjamin Muller, Pedro Javier Ortiz Suárez, Yoann Dupont, Laurent Romary, Éric Villemonte de la Clergerie, Djamé Seddah, Benoît Sagot. 2019. [CamemBERT: a Tasty French Language Model](https://arxiv.org/abs/1911.03894). arXiv preprint arXiv:1911.03894**"
      ]
    }
  ]
}